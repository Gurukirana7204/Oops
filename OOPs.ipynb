{
 "cells": [
  {
   "cell_type": "markdown",
   "id": "fdd9d70a-c8ef-4295-9a02-33082de231fb",
   "metadata": {},
   "source": [
    "Oops Assignment"
   ]
  },
  {
   "cell_type": "markdown",
   "id": "64b81368-5486-4587-897c-d008a61a1bcd",
   "metadata": {},
   "source": [
    "1. What are the five key concepts of Object-Oriented Programming (OOP)?"
   ]
  },
  {
   "cell_type": "code",
   "execution_count": 9,
   "id": "8db6c5c7-903b-4727-b71c-60472a792ca3",
   "metadata": {},
   "outputs": [],
   "source": [
    "#1.Encapsulation\n",
    "#2.Abstraction\n",
    "#3.Inheritance\n",
    "#4.Polymorphism\n",
    "#5.Compositio"
   ]
  },
  {
   "cell_type": "markdown",
   "id": "88cd4888-9da6-4a34-9d21-56724b778b7a",
   "metadata": {},
   "source": [
    "2. Write a Python class for a `Car` with attributes for `make`, `model`, and `year`. Include a method to display \n",
    "the car's information."
   ]
  },
  {
   "cell_type": "code",
   "execution_count": 13,
   "id": "05586164-c658-40b0-8ac5-6869b73d9ee8",
   "metadata": {},
   "outputs": [],
   "source": [
    "class Car:\n",
    "    def __init__(self, make, model, year):\n",
    "        self.make = make\n",
    "        self.model = model\n",
    "        self.year = year\n",
    "\n",
    "    def display_info(self):\n",
    "        print(f\"Car Information: {self.year} {self.make} {self.model}\")"
   ]
  },
  {
   "cell_type": "code",
   "execution_count": 19,
   "id": "5b6301b9-2027-4a77-9375-fe06354167a7",
   "metadata": {},
   "outputs": [
    {
     "name": "stdout",
     "output_type": "stream",
     "text": [
      "Car Information: 2020 Toyota Camry\n"
     ]
    }
   ],
   "source": [
    "my_car = Car(\"Toyota\", \"Camry\", 2020)\n",
    "my_car.display_info()"
   ]
  },
  {
   "cell_type": "markdown",
   "id": "b6506a1e-feee-4759-880d-b1dcffd955ae",
   "metadata": {},
   "source": [
    " 3. Explain the difference between instance methods and class methods. Provide an example of each.\n"
   ]
  },
  {
   "cell_type": "code",
   "execution_count": 32,
   "id": "ae3e8d25-1878-45fe-8c00-685c08236fe6",
   "metadata": {},
   "outputs": [],
   "source": [
    "#Instance methods>> are functions defined in a class that operate on instances of that class.\n",
    "# They take \"self\" as their first parameter, which refers to the instance calling the method."
   ]
  },
  {
   "cell_type": "code",
   "execution_count": 34,
   "id": "684b6c64-fe40-4758-8d5b-9c817c77fbcc",
   "metadata": {},
   "outputs": [],
   "source": [
    "class Dog:\n",
    "    def __init__(self, name):\n",
    "        self.name = name\n",
    "\n",
    "    def bark(self):\n",
    "        return f\"{self.name} says Woof!\""
   ]
  },
  {
   "cell_type": "code",
   "execution_count": 36,
   "id": "f55f3f93-b8e5-426a-b66b-d0ead5625e09",
   "metadata": {},
   "outputs": [
    {
     "name": "stdout",
     "output_type": "stream",
     "text": [
      "Buddy says Woof!\n"
     ]
    }
   ],
   "source": [
    "my_dog = Dog(\"Buddy\")\n",
    "print(my_dog.bark())"
   ]
  },
  {
   "cell_type": "code",
   "execution_count": 38,
   "id": "c3a83d8e-b32d-454a-9ba1-72ce70c58256",
   "metadata": {},
   "outputs": [],
   "source": [
    "#Class methods are functions defined in a class that operate on the class itself rather than on instances of the class.\n",
    "# They take \"cls\" as their first parameter, which refers to the class. They are marked with the \"@classmethod\" decorator."
   ]
  },
  {
   "cell_type": "code",
   "execution_count": 46,
   "id": "f5d3df16-b68e-4d2d-8d87-08057871d29b",
   "metadata": {},
   "outputs": [],
   "source": [
    "class Dog:\n",
    "    species = \"Canis lupus familiaris\"\n",
    "    def __init__(self, name):\n",
    "        self.name = name\n",
    "\n",
    "    @classmethod\n",
    "    def get_species(cls):\n",
    "        return cls.species"
   ]
  },
  {
   "cell_type": "code",
   "execution_count": 48,
   "id": "057f4076-6d8a-47b6-8600-7dda18efa4c4",
   "metadata": {},
   "outputs": [
    {
     "name": "stdout",
     "output_type": "stream",
     "text": [
      "Canis lupus familiaris\n"
     ]
    }
   ],
   "source": [
    "print(Dog.get_species())"
   ]
  },
  {
   "cell_type": "code",
   "execution_count": null,
   "id": "3491c107-7d87-4023-9009-9acbea8e289a",
   "metadata": {},
   "outputs": [],
   "source": []
  },
  {
   "cell_type": "markdown",
   "id": "82dcc575-cf2f-4c38-9dc3-9a717e7545da",
   "metadata": {},
   "source": [
    " 4. How does Python implement method overloading? Give an example."
   ]
  },
  {
   "cell_type": "code",
   "execution_count": 52,
   "id": "205daaa9-a8d8-47fc-b5e4-9f812fb0622e",
   "metadata": {},
   "outputs": [
    {
     "name": "stdout",
     "output_type": "stream",
     "text": [
      "5\n",
      "15\n",
      "30\n"
     ]
    }
   ],
   "source": [
    "class MathOperations:\n",
    "    def add(self, a, b=0, c=0):\n",
    "        return a + b + c\n",
    "math_op = MathOperations()\n",
    "print(math_op.add(5))\n",
    "print(math_op.add(5, 10))\n",
    "print(math_op.add(5, 10, 15))"
   ]
  },
  {
   "cell_type": "markdown",
   "id": "ac8cf451-ee13-4f90-8112-3e15027103bb",
   "metadata": {},
   "source": [
    " 5. What are the three types of access modifiers in Python? How are they denoted?\n"
   ]
  },
  {
   "cell_type": "code",
   "execution_count": 65,
   "id": "030fc666-79d9-4244-95d9-5a56bf3a8117",
   "metadata": {},
   "outputs": [],
   "source": [
    "#Publice\n",
    "#Private\n",
    "#Protecte"
   ]
  },
  {
   "cell_type": "markdown",
   "id": "270a1c43-657b-4795-8dd8-b8b0f0be7942",
   "metadata": {},
   "source": [
    "Publice"
   ]
  },
  {
   "cell_type": "code",
   "execution_count": 90,
   "id": "7738cf42-0f01-4a47-91d2-909e623419cd",
   "metadata": {},
   "outputs": [],
   "source": [
    "class Example:\n",
    "    def __init__(self):\n",
    "        self.public_var = \"I am public\""
   ]
  },
  {
   "cell_type": "code",
   "execution_count": 92,
   "id": "8ab0aff5-5553-4b29-acae-207cc2fa4668",
   "metadata": {},
   "outputs": [
    {
     "name": "stdout",
     "output_type": "stream",
     "text": [
      "I am public\n"
     ]
    }
   ],
   "source": [
    "obj = Example()\n",
    "print(obj.public_var)"
   ]
  },
  {
   "cell_type": "markdown",
   "id": "d0553b1d-ed7e-4d37-953b-8752bacd0818",
   "metadata": {},
   "source": [
    "Private"
   ]
  },
  {
   "cell_type": "code",
   "execution_count": 86,
   "id": "165bea91-14d1-4e45-839e-6f9d4d732760",
   "metadata": {},
   "outputs": [],
   "source": [
    "class Example:\n",
    "    def __init__(self):\n",
    "        self.__private_var = \"I am private\"\n",
    "\n",
    "    def get_private_var(self):\n",
    "        return self.__private_var"
   ]
  },
  {
   "cell_type": "code",
   "execution_count": 88,
   "id": "83a8c655-4e9a-4a39-96db-18ee0d1267df",
   "metadata": {},
   "outputs": [
    {
     "name": "stdout",
     "output_type": "stream",
     "text": [
      "I am private\n"
     ]
    }
   ],
   "source": [
    "obj = Example()\n",
    "print(obj.get_private_var()) "
   ]
  },
  {
   "cell_type": "markdown",
   "id": "8f0ddeee-4ffc-43d7-99bb-71b032ab1bc2",
   "metadata": {},
   "source": [
    "Protecte"
   ]
  },
  {
   "cell_type": "code",
   "execution_count": 82,
   "id": "8a7ca43a-1361-4cf2-a6c9-50d69eeb247b",
   "metadata": {},
   "outputs": [],
   "source": [
    "class Example:\n",
    "    def __init__(self):\n",
    "        self._protected_var = \"I am protected\""
   ]
  },
  {
   "cell_type": "code",
   "execution_count": 84,
   "id": "78ae69fd-41bb-4622-8d58-d1dc07018960",
   "metadata": {},
   "outputs": [
    {
     "name": "stdout",
     "output_type": "stream",
     "text": [
      "I am protected\n"
     ]
    }
   ],
   "source": [
    "obj = Example()\n",
    "print(obj._protected_var)"
   ]
  },
  {
   "cell_type": "markdown",
   "id": "8c84ddfd-1473-4c5b-8e96-2687c283f351",
   "metadata": {},
   "source": [
    " 6. Describe the five types of inheritance in Python. Provide a simple example of multiple inheritance."
   ]
  },
  {
   "cell_type": "markdown",
   "id": "dbff9ab7-dc36-4226-963a-746f1305232f",
   "metadata": {},
   "source": [
    "1).Single Inheritance:"
   ]
  },
  {
   "cell_type": "code",
   "execution_count": 116,
   "id": "309d3bff-9467-428b-81c2-08870af13a50",
   "metadata": {},
   "outputs": [],
   "source": [
    "class Parent:\n",
    "    def greet(self):\n",
    "        return \"Hello from Parent!\"\n",
    "\n",
    "class Child(Parent):\n",
    "   def child(self):\n",
    "       return \"Hello my child\""
   ]
  },
  {
   "cell_type": "code",
   "execution_count": 120,
   "id": "f565acd8-9a13-45c3-a574-ee857a0a72a0",
   "metadata": {},
   "outputs": [
    {
     "data": {
      "text/plain": [
       "'Hello my child'"
      ]
     },
     "execution_count": 120,
     "metadata": {},
     "output_type": "execute_result"
    }
   ],
   "source": [
    "c = Child()\n",
    "c.child()"
   ]
  },
  {
   "cell_type": "code",
   "execution_count": 122,
   "id": "181a1116-2ecd-4229-ae01-146cfc279ae1",
   "metadata": {},
   "outputs": [
    {
     "data": {
      "text/plain": [
       "'Hello from Parent!'"
      ]
     },
     "execution_count": 122,
     "metadata": {},
     "output_type": "execute_result"
    }
   ],
   "source": [
    "c = Child()\n",
    "c.greet()"
   ]
  },
  {
   "cell_type": "markdown",
   "id": "9aa28331-6363-4084-9ac9-7008176b0f70",
   "metadata": {},
   "source": [
    "2).Multiple Inheritance:"
   ]
  },
  {
   "cell_type": "code",
   "execution_count": 143,
   "id": "d024adbc-9fc4-4a5e-93df-4c2157860aa6",
   "metadata": {},
   "outputs": [
    {
     "data": {
      "text/plain": [
       "'Hello from Parent2!'"
      ]
     },
     "execution_count": 143,
     "metadata": {},
     "output_type": "execute_result"
    }
   ],
   "source": [
    "class Parent1:\n",
    "    def greet1(self):\n",
    "        return \"Hello from Parent1!\"\n",
    "\n",
    "class Parent2:\n",
    "    def greet2(self):\n",
    "        return \"Hello from Parent2!\"\n",
    "\n",
    "class Child(Parent1, Parent2):\n",
    "    def greet3(self):\n",
    "        return \"Hello this mine!\"\n",
    "\n",
    "chi = Child()\n",
    "chi.greet2()"
   ]
  },
  {
   "cell_type": "code",
   "execution_count": 145,
   "id": "eb13cbe8-0ad5-41e5-ac08-16f42e4a27d8",
   "metadata": {},
   "outputs": [
    {
     "data": {
      "text/plain": [
       "'Hello from Parent1!'"
      ]
     },
     "execution_count": 145,
     "metadata": {},
     "output_type": "execute_result"
    }
   ],
   "source": [
    "chi.greet1()"
   ]
  },
  {
   "cell_type": "code",
   "execution_count": 149,
   "id": "95435431-c618-4631-9701-411e3cbd42bf",
   "metadata": {},
   "outputs": [
    {
     "data": {
      "text/plain": [
       "'Hello this mine!'"
      ]
     },
     "execution_count": 149,
     "metadata": {},
     "output_type": "execute_result"
    }
   ],
   "source": [
    "chi.greet3()"
   ]
  },
  {
   "cell_type": "markdown",
   "id": "04c47ed9-dca9-478c-aeaf-5386d4ac8026",
   "metadata": {},
   "source": [
    "3).Multilevel Inheritance:"
   ]
  },
  {
   "cell_type": "code",
   "execution_count": 158,
   "id": "8b0a4f59-4613-4c15-b221-cfe52e37f8e7",
   "metadata": {},
   "outputs": [
    {
     "data": {
      "text/plain": [
       "'Hello from Grandparent!'"
      ]
     },
     "execution_count": 158,
     "metadata": {},
     "output_type": "execute_result"
    }
   ],
   "source": [
    "class Grandparent:\n",
    "    def greet1(self):\n",
    "        return \"Hello from Grandparent!\"\n",
    "\n",
    "class Parent(Grandparent):\n",
    "    def greet2(self):\n",
    "        return \"Hello from Parent!\"\n",
    "\n",
    "class Child(Parent):\n",
    "    def greet3(self):\n",
    "        return \"Hello this my proparty\"\n",
    "\n",
    "chi = Child()\n",
    "chi.greet1()\n"
   ]
  },
  {
   "cell_type": "code",
   "execution_count": 160,
   "id": "3dd77a9e-c6b0-4a26-b8bd-a357029921d2",
   "metadata": {},
   "outputs": [
    {
     "data": {
      "text/plain": [
       "'Hello from Parent!'"
      ]
     },
     "execution_count": 160,
     "metadata": {},
     "output_type": "execute_result"
    }
   ],
   "source": [
    "chi.greet2()"
   ]
  },
  {
   "cell_type": "code",
   "execution_count": 162,
   "id": "88a94537-4c6a-4203-85d7-7f802cd84c52",
   "metadata": {},
   "outputs": [
    {
     "data": {
      "text/plain": [
       "'Hello this my proparty'"
      ]
     },
     "execution_count": 162,
     "metadata": {},
     "output_type": "execute_result"
    }
   ],
   "source": [
    "chi.greet3()"
   ]
  },
  {
   "cell_type": "markdown",
   "id": "c8ad69b1-ef53-44d9-81ae-b78ba94e7686",
   "metadata": {},
   "source": [
    "4).Hierarchical Inheritance:"
   ]
  },
  {
   "cell_type": "code",
   "execution_count": 167,
   "id": "9f607db0-2c67-45e6-8e28-7db02aa7a477",
   "metadata": {},
   "outputs": [
    {
     "name": "stdout",
     "output_type": "stream",
     "text": [
      "Hello from Parent!\n",
      "Hello from Parent!\n"
     ]
    }
   ],
   "source": [
    "class Parent:\n",
    "    def greet(self):\n",
    "        return \"Hello from Parent!\"\n",
    "\n",
    "class Child1(Parent):\n",
    "    pass\n",
    "\n",
    "class Child2(Parent):\n",
    "    pass\n",
    "\n",
    "c1 = Child1()\n",
    "c2 = Child2()\n",
    "print(c1.greet())\n",
    "print(c2.greet())\n"
   ]
  },
  {
   "cell_type": "markdown",
   "id": "859fa874-c1ac-4346-932e-bbb55475a598",
   "metadata": {},
   "source": [
    "5).Hybrid Inheritance:"
   ]
  },
  {
   "cell_type": "code",
   "execution_count": 180,
   "id": "52980306-1c28-454e-9920-e99d8da7ab87",
   "metadata": {},
   "outputs": [
    {
     "data": {
      "text/plain": [
       "'Hello this is child'"
      ]
     },
     "execution_count": 180,
     "metadata": {},
     "output_type": "execute_result"
    }
   ],
   "source": [
    "class Parent:\n",
    "    def greet1(self):\n",
    "        return \"Hello from Parent!\"\n",
    "\n",
    "class Parent1:\n",
    "    def greet2(self):\n",
    "        return \"Hello from Parent1!\"\n",
    "\n",
    "class Child(Parent, Parent1):\n",
    "    def great3(self):\n",
    "        return \"Hello this is child\"\n",
    "\n",
    "chi = Child()\n",
    "chi.great3()"
   ]
  },
  {
   "cell_type": "markdown",
   "id": "c9ce4a86-f4c4-428b-ad12-a30f88dc9af7",
   "metadata": {},
   "source": [
    " 7. What is the Method Resolution Order (MRO) in Python? How can you retrieve it programmatically?\n"
   ]
  },
  {
   "cell_type": "code",
   "execution_count": 187,
   "id": "4e061dc3-41bb-4732-92bf-a777713e5be1",
   "metadata": {},
   "outputs": [],
   "source": [
    "#The Method Resolution Order (MRO) in Python determines the order in which classes are searched when a method is called or an attribute is accessed. This is especially significant in the context of multiple inheritance, where a class can inherit from multiple parent classes, potentially leading to ambiguity in method resolution."
   ]
  },
  {
   "cell_type": "code",
   "execution_count": 189,
   "id": "64577bea-fdf2-4cae-ac81-fe3f9f43f83f",
   "metadata": {},
   "outputs": [],
   "source": [
    "class A:\n",
    "    pass\n",
    "\n",
    "class B(A):\n",
    "    pass\n",
    "\n",
    "class C(A):\n",
    "    pass\n",
    "\n",
    "class D(B, C):\n",
    "    pass"
   ]
  },
  {
   "cell_type": "code",
   "execution_count": 191,
   "id": "3d49a372-da78-47f3-bd60-4e4a89073711",
   "metadata": {},
   "outputs": [
    {
     "name": "stdout",
     "output_type": "stream",
     "text": [
      "(<class '__main__.D'>, <class '__main__.B'>, <class '__main__.C'>, <class '__main__.A'>, <class 'object'>)\n"
     ]
    }
   ],
   "source": [
    "print(D.__mro__)"
   ]
  },
  {
   "cell_type": "markdown",
   "id": "70c5bb97-092b-44d3-a8f5-904400b1e575",
   "metadata": {},
   "source": [
    " 8. Create an abstract base class `Shape` with an abstract method `area()`. Then create two subclasses \n",
    "`Circle` and `Rectangle` that implement the `area()` method."
   ]
  },
  {
   "cell_type": "code",
   "execution_count": 208,
   "id": "16e0f549-cd45-457b-a70f-61972acc0ade",
   "metadata": {},
   "outputs": [],
   "source": [
    "class Shape(ABC):\n",
    "    @abstractmethod\n",
    "    def area(self):\n",
    "        pass\n",
    "        \n",
    "class Circle(Shape):\n",
    "    def __init__(self, radius):\n",
    "        self.radius = radius\n",
    "\n",
    "    def area(self):\n",
    "        return math.pi * (self.radius ** 2)\n"
   ]
  },
  {
   "cell_type": "code",
   "execution_count": 210,
   "id": "1906ae2e-8c13-479f-b9f2-d8f2a3f63d0b",
   "metadata": {},
   "outputs": [
    {
     "name": "stdout",
     "output_type": "stream",
     "text": [
      "Area of Circle: 78.54\n"
     ]
    }
   ],
   "source": [
    "circle = Circle(5)\n",
    "print(f\"Area of Circle: {circle.area():.2f}\")"
   ]
  },
  {
   "cell_type": "code",
   "execution_count": 216,
   "id": "1fa5d117-782f-4de8-8afe-23cd172e13d0",
   "metadata": {},
   "outputs": [],
   "source": [
    "class Rectangle(Shape):\n",
    "    def __init__(self, width, height):\n",
    "        self.width = width\n",
    "        self.height = height\n",
    "\n",
    "    def area(self):\n",
    "        return self.width * self.height"
   ]
  },
  {
   "cell_type": "code",
   "execution_count": 218,
   "id": "87f03ef7-4cbf-483e-9d63-a81e1b80242f",
   "metadata": {},
   "outputs": [
    {
     "name": "stdout",
     "output_type": "stream",
     "text": [
      "Area of Rectangle: 24\n"
     ]
    }
   ],
   "source": [
    "rectangle = Rectangle(4, 6)\n",
    "print(f\"Area of Rectangle: {rectangle.area()}\")"
   ]
  },
  {
   "cell_type": "markdown",
   "id": "6d84873a-8895-4614-bfed-613f3931562a",
   "metadata": {},
   "source": [
    " 9. Demonstrate polymorphism by creating a function that can work with different shape objects to calculate \n",
    "and print their areas."
   ]
  },
  {
   "cell_type": "code",
   "execution_count": 236,
   "id": "dd31452f-cb7c-4621-a120-6caf54d68e2a",
   "metadata": {},
   "outputs": [
    {
     "name": "stdout",
     "output_type": "stream",
     "text": [
      "Area: 201.06\n",
      "Area: 24.00\n"
     ]
    }
   ],
   "source": [
    "class Shape(ABC):\n",
    "    @abstractmethod\n",
    "    def area(self):\n",
    "        pass\n",
    "\n",
    "class Circle(Shape):\n",
    "    def __init__(self, radius):\n",
    "        self.radius = radius\n",
    "\n",
    "    def area(self):\n",
    "        return math.pi * (self.radius ** 2)\n",
    "\n",
    "class Rectangle(Shape):\n",
    "    def __init__(self, width, height):\n",
    "        self.width = width\n",
    "        self.height = height\n",
    "\n",
    "    def area(self):\n",
    "        return self.width * self.height\n",
    "\n",
    "def print_area(shape: Shape):\n",
    "    print(f\"Area: {shape.area():.2f}\")\n",
    "\n",
    "circle = Circle(8)\n",
    "rectangle = Rectangle(4, 6)\n",
    "\n",
    "print_area(circle)\n",
    "print_area(rectangle)\n"
   ]
  },
  {
   "cell_type": "markdown",
   "id": "d72d1eaf-eb00-4f14-a6e4-ab38ef6f3ecd",
   "metadata": {},
   "source": [
    " 10. Implement encapsulation in a `BankAccount` class with private attributes for `balance` and \n",
    "`account_number`. Include methods for deposit, withdrawal, and balance inquiry"
   ]
  },
  {
   "cell_type": "code",
   "execution_count": 254,
   "id": "105e33d4-265b-4b33-96de-5824ac58f85c",
   "metadata": {},
   "outputs": [],
   "source": [
    "class BankAccount:\n",
    "    def __init__(self, account_number, initial_balance=0):\n",
    "        self.__account_number = account_number  # Private attribute\n",
    "        self.__balance = initial_balance          # Private attribute\n",
    "\n",
    "    def deposit(self, amount):\n",
    "        if amount > 0:\n",
    "            self.__balance += amount\n",
    "            print(f\"Deposited: ${amount:.2f}. New balance: ${self.__balance:.2f}\")\n",
    "        else:\n",
    "            print(\"Deposit amount must be positive.\")\n",
    "\n",
    "    def withdraw(self, amount):\n",
    "        if 0 < amount <= self.__balance:\n",
    "            self.__balance -= amount\n",
    "            print(f\"Withdrawn: ${amount:.2f}. New balance: ${self.__balance:.2f}\")\n",
    "        else:\n",
    "            print(\"Insufficient balance or invalid amount.\")\n",
    "\n",
    "    def get_balance(self):\n",
    "        return self.__balance\n",
    "\n",
    "    def get_account_number(self):\n",
    "        return self.__account_number\n",
    "\n",
    "# Example usage\n",
    "account = BankAccount(\"123456789\", 1000)"
   ]
  },
  {
   "cell_type": "code",
   "execution_count": 256,
   "id": "1d6dca5d-46b0-42b0-b899-3b1de562c5af",
   "metadata": {},
   "outputs": [
    {
     "name": "stdout",
     "output_type": "stream",
     "text": [
      "Deposited: $500.00. New balance: $1500.00\n",
      "Withdrawn: $200.00. New balance: $1300.00\n",
      "Current balance: $1300.00\n",
      "Account number: 123456789\n"
     ]
    }
   ],
   "source": [
    "account.deposit(500)\n",
    "account.withdraw(200)\n",
    "print(f\"Current balance: ${account.get_balance():.2f}\")\n",
    "print(f\"Account number: {account.get_account_number()}\")"
   ]
  },
  {
   "cell_type": "markdown",
   "id": "e2531cea-a85a-4868-98b2-c9c9ac188243",
   "metadata": {},
   "source": [
    " 11. Write a class that overrides the `__str__` and `__add__` magic methods. What will these methods allow \n",
    "you to do?"
   ]
  },
  {
   "cell_type": "code",
   "execution_count": 259,
   "id": "94a02aff-6424-41b9-bdd1-1c98cd67d344",
   "metadata": {},
   "outputs": [
    {
     "name": "stdout",
     "output_type": "stream",
     "text": [
      "Vector(2, 3)\n",
      "Vector(5, 7)\n",
      "Vector(7, 10)\n"
     ]
    }
   ],
   "source": [
    "class Vector:\n",
    "    def __init__(self, x, y):\n",
    "        self.x = x\n",
    "        self.y = y\n",
    "\n",
    "    def __str__(self):\n",
    "        return f\"Vector({self.x}, {self.y})\"\n",
    "\n",
    "    def __add__(self, other):\n",
    "        if isinstance(other, Vector):\n",
    "            return Vector(self.x + other.x, self.y + other.y)\n",
    "        return NotImplemented\n",
    "\n",
    "v1 = Vector(2, 3)\n",
    "v2 = Vector(5, 7)\n",
    "\n",
    "print(v1)\n",
    "print(v2)\n",
    "\n",
    "v3 = v1 + v2\n",
    "print(v3)\n"
   ]
  },
  {
   "cell_type": "code",
   "execution_count": 261,
   "id": "e366ad0e-0e3f-4b01-a00a-1243d406e4d2",
   "metadata": {},
   "outputs": [],
   "source": [
    "#__str__:\n",
    "#Provides a meaningful string representation of an object, making it easier to print and understand the object's state.\n",
    "#__add__:\n",
    "#Enables the use of the + operator for objects of the class, allowing you to easily combine or sum two instances in a way that is intuitive and natural."
   ]
  },
  {
   "cell_type": "markdown",
   "id": "d1d02668-9549-4b56-83cb-dd8832f0737b",
   "metadata": {},
   "source": [
    " 12. Create a decorator that measures and prints the execution time of a function.\n"
   ]
  },
  {
   "cell_type": "code",
   "execution_count": 264,
   "id": "e860cf11-f7e0-4d43-a36d-41ce78787f14",
   "metadata": {},
   "outputs": [
    {
     "name": "stdout",
     "output_type": "stream",
     "text": [
      "Execution time of slow_function: 2.000587 seconds\n",
      "Finished!\n"
     ]
    }
   ],
   "source": [
    "import time\n",
    "\n",
    "def execution_time_decorator(func):\n",
    "    def wrapper(*args, **kwargs):\n",
    "        start_time = time.time()\n",
    "        result = func(*args, **kwargs)\n",
    "        end_time = time.time() \n",
    "        execution_time = end_time - start_time\n",
    "        print(f\"Execution time of {func.__name__}: {execution_time:.6f} seconds\")\n",
    "        return result\n",
    "    return wrapper\n",
    "\n",
    "@execution_time_decorator\n",
    "def slow_function():\n",
    "    time.sleep(2) \n",
    "    return \"Finished!\"\n",
    "    \n",
    "result = slow_function()\n",
    "print(result)"
   ]
  },
  {
   "cell_type": "markdown",
   "id": "dcc63868-b19b-48f7-9737-526a3aec1da4",
   "metadata": {},
   "source": [
    " 13. Explain the concept of the Diamond Problem in multiple inheritance. How does Python resolve it?\n"
   ]
  },
  {
   "cell_type": "code",
   "execution_count": 268,
   "id": "bcc258d6-3636-4809-8616-24ca0462adc9",
   "metadata": {},
   "outputs": [],
   "source": [
    "#   A\n",
    "#  / \\\n",
    "# B   C\n",
    "#  \\ /\n",
    "#   D\n"
   ]
  },
  {
   "cell_type": "code",
   "execution_count": 270,
   "id": "b03121d3-59b9-49a8-ba58-5aabec2c6ac4",
   "metadata": {},
   "outputs": [
    {
     "name": "stdout",
     "output_type": "stream",
     "text": [
      "Hello from B\n"
     ]
    }
   ],
   "source": [
    "class A:\n",
    "    def greet(self):\n",
    "        return \"Hello from A\"\n",
    "\n",
    "class B(A):\n",
    "    def greet(self):\n",
    "        return \"Hello from B\"\n",
    "\n",
    "class C(A):\n",
    "    def greet(self):\n",
    "        return \"Hello from C\"\n",
    "\n",
    "class D(B, C):\n",
    "    pass\n",
    "\n",
    "d = D()\n",
    "\n",
    "print(d.greet())\n"
   ]
  },
  {
   "cell_type": "markdown",
   "id": "4d852a1c-a91f-4f95-a64f-7d7b82e4cda5",
   "metadata": {},
   "source": [
    " 14. Write a class method that keeps track of the number of instances created from a class.\n"
   ]
  },
  {
   "cell_type": "code",
   "execution_count": 273,
   "id": "f1e84cd5-a395-4041-bda9-496c13013881",
   "metadata": {},
   "outputs": [
    {
     "name": "stdout",
     "output_type": "stream",
     "text": [
      "Number of instances created: 3\n"
     ]
    }
   ],
   "source": [
    "class InstanceCounter:\n",
    "    instance_count = 0\n",
    "\n",
    "    def __init__(self):\n",
    "        InstanceCounter.instance_count += 1\n",
    "\n",
    "    @classmethod\n",
    "    def get_instance_count(cls):\n",
    "        return cls.instance_count\n",
    "\n",
    "obj1 = InstanceCounter()\n",
    "obj2 = InstanceCounter()\n",
    "obj3 = InstanceCounter()\n",
    "\n",
    "print(f\"Number of instances created: {InstanceCounter.get_instance_count()}\")"
   ]
  },
  {
   "cell_type": "markdown",
   "id": "ae7cd059-5dea-46ba-befd-cb3b31456e9c",
   "metadata": {},
   "source": [
    " 15. Implement a static method in a class that checks if a given year is a leap year."
   ]
  },
  {
   "cell_type": "code",
   "execution_count": 276,
   "id": "69d307f1-7111-4b6e-b7d5-e61e4c41a6a3",
   "metadata": {},
   "outputs": [
    {
     "name": "stdout",
     "output_type": "stream",
     "text": [
      "2024 is a leap year.\n",
      "1900 is not a leap year.\n"
     ]
    }
   ],
   "source": [
    "class YearUtils:\n",
    "    @staticmethod\n",
    "    def is_leap_year(year):\n",
    "        if (year % 4 == 0 and year % 100 != 0) or (year % 400 == 0):\n",
    "            return True\n",
    "        return False\n",
    "\n",
    "year = 2024\n",
    "if YearUtils.is_leap_year(year):\n",
    "    print(f\"{year} is a leap year.\")\n",
    "else:\n",
    "    print(f\"{year} is not a leap year.\")\n",
    "\n",
    "year = 1900\n",
    "if YearUtils.is_leap_year(year):\n",
    "    print(f\"{year} is a leap year.\")\n",
    "else:\n",
    "    print(f\"{year} is not a leap year.\")\n"
   ]
  },
  {
   "cell_type": "code",
   "execution_count": null,
   "id": "482d2204-29a6-47e2-aae6-e29bf98dc50f",
   "metadata": {},
   "outputs": [],
   "source": []
  }
 ],
 "metadata": {
  "kernelspec": {
   "display_name": "Python 3 (ipykernel)",
   "language": "python",
   "name": "python3"
  },
  "language_info": {
   "codemirror_mode": {
    "name": "ipython",
    "version": 3
   },
   "file_extension": ".py",
   "mimetype": "text/x-python",
   "name": "python",
   "nbconvert_exporter": "python",
   "pygments_lexer": "ipython3",
   "version": "3.12.4"
  }
 },
 "nbformat": 4,
 "nbformat_minor": 5
}
